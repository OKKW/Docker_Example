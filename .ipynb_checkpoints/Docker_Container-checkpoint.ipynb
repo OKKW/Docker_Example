{
 "cells": [
  {
   "cell_type": "markdown",
   "metadata": {},
   "source": [
    "# Docker container\n",
    "## Create and deploy docker container on Azure\n"
   ]
  },
  {
   "cell_type": "markdown",
   "metadata": {},
   "source": [
    "1. Create your machine learning model and save it. I have used pickle for this (native to python). Be careful not to mix different versions of pickle (python2 and python3 are incompatible). The docker container default is python 2, so I recommend using that for your model. Otherwise the Dockerfile needs to be configured differently from this guide.\n",
    "2. Adapt and inser your code into App.py, a general tip is to have as little code as possible in here since it is difficult to debug in this environment.\n",
    "3. Create dockerhub account\n",
    "4. Create dockerhub repo (I have used the following structure \"docker/app\")\n",
    "5. Create similar folder stucture locally (docker/app/app)\n",
    "6. CD into the app folder\n",
    "7. run docker build -t \"docker/app:App_v0.1\" .\n",
    "8. run -d -p 5000:5000 docker/app:App10\n",
    "9. open browser and go to http://0.0.0.0:5000/ to test your app\n",
    "10. If everything works, we want to publish the container to dockerhub with the following command: docker push \"docker/app:App_v0.1\"\n",
    "11. Go to http://portal.azure.com\n",
    "12. Click \"Create a resource\"\n",
    "13. Search and click \"Web app for containers\"\n",
    "14. Go to container settings and input credentials to your dockerhub, and input the path and startup file (App.py)\n",
    "15. Go to overview and start your Web App.\n",
    "16. In overview you can find the link to the web app, which will be https://<nameOfApp>.azurewebsites.net\n",
    "17. Open browser and navigate to your app"
   ]
  }
 ],
 "metadata": {
  "kernelspec": {
   "display_name": "Acando_p27",
   "language": "python",
   "name": "acando_p27"
  },
  "language_info": {
   "codemirror_mode": {
    "name": "ipython",
    "version": 2
   },
   "file_extension": ".py",
   "mimetype": "text/x-python",
   "name": "python",
   "nbconvert_exporter": "python",
   "pygments_lexer": "ipython2",
   "version": "2.7.15"
  }
 },
 "nbformat": 4,
 "nbformat_minor": 2
}
