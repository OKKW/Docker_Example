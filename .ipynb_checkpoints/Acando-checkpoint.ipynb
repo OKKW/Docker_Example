{
 "cells": [
  {
   "cell_type": "markdown",
   "metadata": {},
   "source": [
    "# Acando\n",
    "## Plotting with the Acando color profile"
   ]
  },
  {
   "cell_type": "markdown",
   "metadata": {},
   "source": [
    "To install this package, use the following recommended command: <br>\n",
    "pip install --upgrade --force-reinstall git+https://github.com/OKKW/Acando\n",
    "\n",
    "Note that this repository is private, so you need the be invited and provide your credentials.\n",
    "\n",
    "Example usage:<br>\n",
    "from Acando.plotting import standard_theme_and_width<br>\n",
    "standard_theme_and_width()\n",
    "\n",
    "This command sets the color profile of your notebook, and also changes the width of the notebook. If you do not want to change the width of the notebook, use the following command:<br>\n",
    "from Acando.plotting import acando_theme<br>\n",
    "acando_theme()\n",
    "\n",
    "\n"
   ]
  },
  {
   "cell_type": "markdown",
   "metadata": {},
   "source": [
    "## Available plotting functions \n",
    "\n",
    "A number of other plotting functions are available as well. Feel free to contribute! \n",
    "\n",
    "### plotConfusionMatrix\n",
    "Self explanatory\n",
    "\n",
    "### plotROC\n",
    "Self explanatory\n",
    "\n",
    "### plotPRcurve\n",
    "Self explanatory\n",
    "\n",
    "### acando_theme\n",
    "Sets color profile\n",
    "\n",
    "### standard_theme_and_width\n",
    "Sets color profile and changes notebook width\n",
    "\n",
    "### acando_plotting\n",
    "Sets color profile, used for backwards-compatability\n",
    "\n",
    "### saveImg\n",
    "Input the standard matplotlib figure object and a folder \"Plots\" is created in your current directory with the corresponding image (with transparent background).\n",
    "\n",
    "### plotMap\n",
    "Plots a map using Smopy package\n",
    "\n",
    "### plotTimeSeries\n",
    "When plotting time series with many instances the plotting may become slow, and the datetimeformat does not display well on the axis. This function solves these problems.\n",
    "\n",
    "### plotSlices\n",
    "Used to plot many time slices (recommended to be used in combination with sliceframe in utilities)\n"
   ]
  }
 ],
 "metadata": {
  "kernelspec": {
   "display_name": "Acando_p27",
   "language": "python",
   "name": "acando_p27"
  },
  "language_info": {
   "codemirror_mode": {
    "name": "ipython",
    "version": 2
   },
   "file_extension": ".py",
   "mimetype": "text/x-python",
   "name": "python",
   "nbconvert_exporter": "python",
   "pygments_lexer": "ipython2",
   "version": "2.7.15"
  }
 },
 "nbformat": 4,
 "nbformat_minor": 2
}
